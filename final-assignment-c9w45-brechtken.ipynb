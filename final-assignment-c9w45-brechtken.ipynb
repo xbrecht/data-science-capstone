{
 "cells": [
  {
   "cell_type": "markdown",
   "metadata": {},
   "source": [
    "# Final Project\n",
    "Owner: Felix Brechtken\n",
    "Date:  13.02.2021"
   ]
  },
  {
   "cell_type": "markdown",
   "metadata": {},
   "source": [
    "#### Prequel:\n",
    "Dear Peer,\n",
    "in the following you will read my Data Science Capstone. I hope you will like it!\n",
    "To ease reading I seperated the notebook in different sections each marked by headlines. Of course the headlines are inspired by the needs of the assignment and the Data Science Methodology.\n",
    "1. Problem description\n",
    "2. Usage of data\n",
    "3. Methodology section\n",
    "4. Data Collection and preparation\n",
    "5. Visualization of data\n",
    "6. Modelling\n",
    "7. Visualization, Evaluation and discussion\n",
    "8. Summary and Discussion"
   ]
  },
  {
   "cell_type": "markdown",
   "metadata": {},
   "source": [
    "#### 1. Problem Description:\n",
    "Due to my current work as an engineer in the german automotive industry, I have lots of contacts with electric vehicles and I am driving a new hybrid car myself. For summer, I am thinking about changing from a hybrid to a full electric car. The most interesting topic here is 'Where am I able to charge my car and do I have to expect changes in different parts of the town regarding the availibility of charging stations for business or holiday trips in towns like Berlin?'"
   ]
  },
  {
   "cell_type": "markdown",
   "metadata": {},
   "source": [
    "#### 2. Usage of Data:\n",
    "Although everyone talks about fast charging which is very expensive, a charging station with 7,5kW is absolutly sufficiant for me - you recharge around 80km of range per hour of charging. Therefore, the 7,5kW-charging station should be the goal of this analysis.\n",
    "- I want to focus on the town of Berlin.\n",
    "- I want to rate different parts of the town in their readiness for electric vehicles. Therefore I need the different parts of the town and information about the location and number of people who are living there.  \n",
    "- As I expect to find differences I want to know, if there is a correlation between the monthly income of the people and the number of charging points. This should also give an impression, wether electric vehicles are more popular in more or less wealthy neighborhoods. For this I have downloaded an html table from rbb a german news company about the monthly income from https://www.rbb24.de/wirtschaft/beitrag/2019/01/einkommen-beitragsbemessungsgrenze-berlin-brandenburg.html.\n",
    "- (please see Update) - I will download all charging stations for electric vehicles from Foursquare.\n",
    "- To map all charging stations in the right neighborhood I need to connect each charging station to a neighborhood. In the table of charging station each station has a postal code mentioned. So I combine it with a dataframe of postal codes to neighborhoods by the german post.\n",
    "Update:\n",
    "During the coding I discovered, that the data provided by the Foursquare API about charging stations is very bad and decided to report it directly to Foursquare. \n",
    "Because I used the official data provided by legal authorities in a .csv I am sure, Foursquare will update it and within the next few weeks the project will look the same with 100% Foursquare data. https://www.bundesnetzagentur.de/DE/Sachgebiete/ElektrizitaetundGas/Unternehmen_Institutionen/HandelundVertrieb/Ladesaeulenkarte/Ladesaeulenkarte_node.html\n",
    "##### Please notice: I have shown the usage of the Foursquare-API!"
   ]
  },
  {
   "cell_type": "markdown",
   "metadata": {},
   "source": [
    "#### 3. Methodology section - How I want to solve the problem:\n",
    "- Business understanding and the analytic approach are discussed above.\n",
    "- The data requirements are also discussed above. \n",
    "- During my search I also discovered the data structure.\n",
    "- First I will extract all data from the sources mentioned above.\n",
    "- Afterwards I will visualize the data. I plan to make a Folium map and show all locations of charging stations.\n",
    "- I also want to visualize the different parts of the town (propably in a table due to missing geojson-file) with the monthly income and number of people who live there.\n",
    "- Afterwards I will try to find a correlation between \n",
    "    - The number of charging stations.\n",
    "    - The average monthly income.\n",
    "    - The number of people with high monthly income (complex value depending on german tax system)- roughly around 5700€ per month.\n",
    "    - The number of people with low monthly income (below 2000€).\n",
    "    - The density of people per km-square.\n",
    "- The ease the use of my data I will preprocess it with a pipeline.\n",
    "- I will cluster the parts of the town afterwards in three groups (EV-ready, EV-Possible, and Not-EV-ready).\n",
    "- These results will be evaluated and discussed afterwards.\n",
    "- If the evaluation shows a high reliability I will visualize the results. Then discuss them and conclude the report. If not I will try to change the model or gather new data."
   ]
  },
  {
   "cell_type": "markdown",
   "metadata": {},
   "source": [
    "### Start of the code - Installing and Importing of libraries:"
   ]
  },
  {
   "cell_type": "code",
   "execution_count": 1,
   "metadata": {},
   "outputs": [],
   "source": [
    "import pandas as pd\n",
    "import numpy as np\n",
    "import matplotlib\n",
    "import matplotlib.pyplot as plt"
   ]
  },
  {
   "cell_type": "code",
   "execution_count": 2,
   "metadata": {},
   "outputs": [],
   "source": [
    "#!conda install -c conda-forge geopy --yes\n",
    "from geopy.geocoders import Nominatim"
   ]
  },
  {
   "cell_type": "code",
   "execution_count": 3,
   "metadata": {},
   "outputs": [],
   "source": [
    "import requests\n",
    "#!conda install -c conda-forge lxml --yes\n",
    "import lxml.html as lh\n",
    "#!conda install -c conda-forge geocoder --yes\n",
    "import geocoder\n",
    "import pandas as pd\n",
    "import numpy as np"
   ]
  },
  {
   "cell_type": "code",
   "execution_count": 4,
   "metadata": {},
   "outputs": [],
   "source": [
    "import sklearn\n",
    "from sklearn.preprocessing import StandardScaler\n",
    "from sklearn.linear_model import LinearRegression\n",
    "from sklearn.preprocessing import PolynomialFeatures\n",
    "from sklearn.pipeline import Pipeline\n",
    "from sklearn.svm import SVC\n",
    "from sklearn.datasets import make_classification\n",
    "from sklearn.model_selection import train_test_split"
   ]
  },
  {
   "cell_type": "code",
   "execution_count": 5,
   "metadata": {},
   "outputs": [],
   "source": [
    "import folium"
   ]
  },
  {
   "cell_type": "code",
   "execution_count": 80,
   "metadata": {},
   "outputs": [],
   "source": [
    "import math"
   ]
  },
  {
   "cell_type": "markdown",
   "metadata": {},
   "source": [
    "### 4. Data Collection and Data preparation"
   ]
  },
  {
   "cell_type": "code",
   "execution_count": 6,
   "metadata": {},
   "outputs": [
    {
     "data": {
      "text/html": [
       "<div>\n",
       "<style scoped>\n",
       "    .dataframe tbody tr th:only-of-type {\n",
       "        vertical-align: middle;\n",
       "    }\n",
       "\n",
       "    .dataframe tbody tr th {\n",
       "        vertical-align: top;\n",
       "    }\n",
       "\n",
       "    .dataframe thead th {\n",
       "        text-align: right;\n",
       "    }\n",
       "</style>\n",
       "<table border=\"1\" class=\"dataframe\">\n",
       "  <thead>\n",
       "    <tr style=\"text-align: right;\">\n",
       "      <th></th>\n",
       "      <th>Unnamed: 0</th>\n",
       "      <th>Charlottenburg-Wilmersdorf</th>\n",
       "      <th>Steglitz-Zehlendorf</th>\n",
       "      <th>Friedrichshain-Kreuzberg</th>\n",
       "      <th>Pankow</th>\n",
       "      <th>Mitte</th>\n",
       "      <th>Tempelhof-Schöneberg</th>\n",
       "      <th>Treptow-Köpenick</th>\n",
       "      <th>Reinickendorf</th>\n",
       "      <th>Neukölln</th>\n",
       "      <th>Lichtenberg</th>\n",
       "      <th>Spandau</th>\n",
       "      <th>Marzahn-Hellersdorf</th>\n",
       "    </tr>\n",
       "  </thead>\n",
       "  <tbody>\n",
       "    <tr>\n",
       "      <th>0</th>\n",
       "      <td>Below_2000</td>\n",
       "      <td>15.8</td>\n",
       "      <td>14.3</td>\n",
       "      <td>16.1</td>\n",
       "      <td>13.8</td>\n",
       "      <td>19.6</td>\n",
       "      <td>17.7</td>\n",
       "      <td>17.3</td>\n",
       "      <td>21.4</td>\n",
       "      <td>23.6</td>\n",
       "      <td>21.5</td>\n",
       "      <td>24.7</td>\n",
       "      <td>26.0</td>\n",
       "    </tr>\n",
       "    <tr>\n",
       "      <th>1</th>\n",
       "      <td>Above_5700</td>\n",
       "      <td>14.2</td>\n",
       "      <td>14.3</td>\n",
       "      <td>8.1</td>\n",
       "      <td>8.0</td>\n",
       "      <td>8.6</td>\n",
       "      <td>9.2</td>\n",
       "      <td>4.8</td>\n",
       "      <td>8.8</td>\n",
       "      <td>4.8</td>\n",
       "      <td>3.1</td>\n",
       "      <td>6.3</td>\n",
       "      <td>2.9</td>\n",
       "    </tr>\n",
       "    <tr>\n",
       "      <th>2</th>\n",
       "      <td>Average</td>\n",
       "      <td>3573.0</td>\n",
       "      <td>3553.0</td>\n",
       "      <td>3375.0</td>\n",
       "      <td>3358.0</td>\n",
       "      <td>3224.0</td>\n",
       "      <td>3194.0</td>\n",
       "      <td>3041.0</td>\n",
       "      <td>2984.0</td>\n",
       "      <td>2855.0</td>\n",
       "      <td>2810.0</td>\n",
       "      <td>2761.0</td>\n",
       "      <td>2647.0</td>\n",
       "    </tr>\n",
       "  </tbody>\n",
       "</table>\n",
       "</div>"
      ],
      "text/plain": [
       "   Unnamed: 0  Charlottenburg-Wilmersdorf  Steglitz-Zehlendorf  \\\n",
       "0  Below_2000                        15.8                 14.3   \n",
       "1  Above_5700                        14.2                 14.3   \n",
       "2     Average                      3573.0               3553.0   \n",
       "\n",
       "   Friedrichshain-Kreuzberg  Pankow   Mitte  Tempelhof-Schöneberg  \\\n",
       "0                      16.1    13.8    19.6                  17.7   \n",
       "1                       8.1     8.0     8.6                   9.2   \n",
       "2                    3375.0  3358.0  3224.0                3194.0   \n",
       "\n",
       "   Treptow-Köpenick  Reinickendorf  Neukölln  Lichtenberg  Spandau  \\\n",
       "0              17.3           21.4      23.6         21.5     24.7   \n",
       "1               4.8            8.8       4.8          3.1      6.3   \n",
       "2            3041.0         2984.0    2855.0       2810.0   2761.0   \n",
       "\n",
       "   Marzahn-Hellersdorf  \n",
       "0                 26.0  \n",
       "1                  2.9  \n",
       "2               2647.0  "
      ]
     },
     "execution_count": 6,
     "metadata": {},
     "output_type": "execute_result"
    }
   ],
   "source": [
    "#read the excel for income in berlin from rbb\n",
    "df_income = pd.read_excel('berlin_income.xlsx')\n",
    "df_income.head()"
   ]
  },
  {
   "cell_type": "code",
   "execution_count": 7,
   "metadata": {},
   "outputs": [
    {
     "data": {
      "text/html": [
       "<div>\n",
       "<style scoped>\n",
       "    .dataframe tbody tr th:only-of-type {\n",
       "        vertical-align: middle;\n",
       "    }\n",
       "\n",
       "    .dataframe tbody tr th {\n",
       "        vertical-align: top;\n",
       "    }\n",
       "\n",
       "    .dataframe thead th {\n",
       "        text-align: right;\n",
       "    }\n",
       "</style>\n",
       "<table border=\"1\" class=\"dataframe\">\n",
       "  <thead>\n",
       "    <tr style=\"text-align: right;\">\n",
       "      <th></th>\n",
       "      <th>Charlottenburg-Wilmersdorf</th>\n",
       "      <th>Steglitz-Zehlendorf</th>\n",
       "      <th>Friedrichshain-Kreuzberg</th>\n",
       "      <th>Pankow</th>\n",
       "      <th>Mitte</th>\n",
       "      <th>Tempelhof-Schöneberg</th>\n",
       "      <th>Treptow-Köpenick</th>\n",
       "      <th>Reinickendorf</th>\n",
       "      <th>Neukölln</th>\n",
       "      <th>Lichtenberg</th>\n",
       "      <th>Spandau</th>\n",
       "      <th>Marzahn-Hellersdorf</th>\n",
       "    </tr>\n",
       "    <tr>\n",
       "      <th></th>\n",
       "      <th></th>\n",
       "      <th></th>\n",
       "      <th></th>\n",
       "      <th></th>\n",
       "      <th></th>\n",
       "      <th></th>\n",
       "      <th></th>\n",
       "      <th></th>\n",
       "      <th></th>\n",
       "      <th></th>\n",
       "      <th></th>\n",
       "      <th></th>\n",
       "    </tr>\n",
       "  </thead>\n",
       "  <tbody>\n",
       "    <tr>\n",
       "      <th>Below_2000</th>\n",
       "      <td>15.8</td>\n",
       "      <td>14.3</td>\n",
       "      <td>16.1</td>\n",
       "      <td>13.8</td>\n",
       "      <td>19.6</td>\n",
       "      <td>17.7</td>\n",
       "      <td>17.3</td>\n",
       "      <td>21.4</td>\n",
       "      <td>23.6</td>\n",
       "      <td>21.5</td>\n",
       "      <td>24.7</td>\n",
       "      <td>26.0</td>\n",
       "    </tr>\n",
       "    <tr>\n",
       "      <th>Above_5700</th>\n",
       "      <td>14.2</td>\n",
       "      <td>14.3</td>\n",
       "      <td>8.1</td>\n",
       "      <td>8.0</td>\n",
       "      <td>8.6</td>\n",
       "      <td>9.2</td>\n",
       "      <td>4.8</td>\n",
       "      <td>8.8</td>\n",
       "      <td>4.8</td>\n",
       "      <td>3.1</td>\n",
       "      <td>6.3</td>\n",
       "      <td>2.9</td>\n",
       "    </tr>\n",
       "    <tr>\n",
       "      <th>Average</th>\n",
       "      <td>3573.0</td>\n",
       "      <td>3553.0</td>\n",
       "      <td>3375.0</td>\n",
       "      <td>3358.0</td>\n",
       "      <td>3224.0</td>\n",
       "      <td>3194.0</td>\n",
       "      <td>3041.0</td>\n",
       "      <td>2984.0</td>\n",
       "      <td>2855.0</td>\n",
       "      <td>2810.0</td>\n",
       "      <td>2761.0</td>\n",
       "      <td>2647.0</td>\n",
       "    </tr>\n",
       "  </tbody>\n",
       "</table>\n",
       "</div>"
      ],
      "text/plain": [
       "            Charlottenburg-Wilmersdorf  Steglitz-Zehlendorf  \\\n",
       "                                                              \n",
       "Below_2000                        15.8                 14.3   \n",
       "Above_5700                        14.2                 14.3   \n",
       "Average                         3573.0               3553.0   \n",
       "\n",
       "            Friedrichshain-Kreuzberg  Pankow   Mitte  Tempelhof-Schöneberg  \\\n",
       "                                                                             \n",
       "Below_2000                      16.1    13.8    19.6                  17.7   \n",
       "Above_5700                       8.1     8.0     8.6                   9.2   \n",
       "Average                       3375.0  3358.0  3224.0                3194.0   \n",
       "\n",
       "            Treptow-Köpenick  Reinickendorf  Neukölln  Lichtenberg  Spandau  \\\n",
       "                                                                              \n",
       "Below_2000              17.3           21.4      23.6         21.5     24.7   \n",
       "Above_5700               4.8            8.8       4.8          3.1      6.3   \n",
       "Average               3041.0         2984.0    2855.0       2810.0   2761.0   \n",
       "\n",
       "            Marzahn-Hellersdorf  \n",
       "                                 \n",
       "Below_2000                 26.0  \n",
       "Above_5700                  2.9  \n",
       "Average                  2647.0  "
      ]
     },
     "execution_count": 7,
     "metadata": {},
     "output_type": "execute_result"
    }
   ],
   "source": [
    "#make the first column as index and delete unnamed 0\n",
    "df_income.set_index('Unnamed: 0', inplace=True)\n",
    "df_income.index.name=''\n",
    "df_income.head()"
   ]
  },
  {
   "cell_type": "code",
   "execution_count": 8,
   "metadata": {},
   "outputs": [],
   "source": [
    "# the foursquare API does not show enough charging stations, even when you try the word Ladesäule (german) or similar different words\n",
    "# so i reported the issue and suggested them to also use the table i used from Bundesnetzagentur as our german legal authority."
   ]
  },
  {
   "cell_type": "code",
   "execution_count": 9,
   "metadata": {},
   "outputs": [
    {
     "data": {
      "text/html": [
       "<div>\n",
       "<style scoped>\n",
       "    .dataframe tbody tr th:only-of-type {\n",
       "        vertical-align: middle;\n",
       "    }\n",
       "\n",
       "    .dataframe tbody tr th {\n",
       "        vertical-align: top;\n",
       "    }\n",
       "\n",
       "    .dataframe thead th {\n",
       "        text-align: right;\n",
       "    }\n",
       "</style>\n",
       "<table border=\"1\" class=\"dataframe\">\n",
       "  <thead>\n",
       "    <tr style=\"text-align: right;\">\n",
       "      <th></th>\n",
       "      <th>Betreiber</th>\n",
       "      <th>Adresse</th>\n",
       "      <th>Postleitzahl Ort</th>\n",
       "      <th>Bundesland</th>\n",
       "      <th>Landkreis</th>\n",
       "      <th>Längengrad [DG]</th>\n",
       "      <th>Breitengrad [DG]</th>\n",
       "      <th>Inbetriebnahmedatum</th>\n",
       "      <th>Anschlussleistung [kW]</th>\n",
       "      <th>Art der Ladeeinrichtung</th>\n",
       "      <th>...</th>\n",
       "      <th>Public Key1</th>\n",
       "      <th>Steckertypen2</th>\n",
       "      <th>P2 [kW]</th>\n",
       "      <th>Public Key2</th>\n",
       "      <th>Steckertypen3</th>\n",
       "      <th>P3 [kW]</th>\n",
       "      <th>Public Key3</th>\n",
       "      <th>Steckertypen4</th>\n",
       "      <th>P4 [kW]</th>\n",
       "      <th>Spalte1</th>\n",
       "    </tr>\n",
       "  </thead>\n",
       "  <tbody>\n",
       "    <tr>\n",
       "      <th>0</th>\n",
       "      <td>innogy eMobility Solutions GmbH</td>\n",
       "      <td>Boyenstr. 23</td>\n",
       "      <td>10115 Berlin</td>\n",
       "      <td>Berlin</td>\n",
       "      <td>Kreisfreie Stadt Berlin</td>\n",
       "      <td>13.368842</td>\n",
       "      <td>52.535955</td>\n",
       "      <td>40008.0</td>\n",
       "      <td>44.0</td>\n",
       "      <td>Normalladeeinrichtung</td>\n",
       "      <td>...</td>\n",
       "      <td>NaN</td>\n",
       "      <td>AC Steckdose Typ 2</td>\n",
       "      <td>22.0</td>\n",
       "      <td>NaN</td>\n",
       "      <td>NaN</td>\n",
       "      <td>NaN</td>\n",
       "      <td>NaN</td>\n",
       "      <td>NaN</td>\n",
       "      <td>NaN</td>\n",
       "      <td>NaN</td>\n",
       "    </tr>\n",
       "    <tr>\n",
       "      <th>1</th>\n",
       "      <td>innogy eMobility Solutions GmbH</td>\n",
       "      <td>Anklamer Str. 8</td>\n",
       "      <td>10115 Berlin</td>\n",
       "      <td>Berlin</td>\n",
       "      <td>Kreisfreie Stadt Berlin</td>\n",
       "      <td>13.395824</td>\n",
       "      <td>52.534398</td>\n",
       "      <td>40008.0</td>\n",
       "      <td>44.0</td>\n",
       "      <td>Normalladeeinrichtung</td>\n",
       "      <td>...</td>\n",
       "      <td>NaN</td>\n",
       "      <td>AC Steckdose Typ 2</td>\n",
       "      <td>22.0</td>\n",
       "      <td>NaN</td>\n",
       "      <td>NaN</td>\n",
       "      <td>NaN</td>\n",
       "      <td>NaN</td>\n",
       "      <td>NaN</td>\n",
       "      <td>NaN</td>\n",
       "      <td>NaN</td>\n",
       "    </tr>\n",
       "    <tr>\n",
       "      <th>2</th>\n",
       "      <td>innogy eMobility Solutions GmbH</td>\n",
       "      <td>Torstraße 165</td>\n",
       "      <td>10115 Berlin</td>\n",
       "      <td>Berlin</td>\n",
       "      <td>Kreisfreie Stadt Berlin</td>\n",
       "      <td>13.395841</td>\n",
       "      <td>52.529125</td>\n",
       "      <td>40282.0</td>\n",
       "      <td>44.0</td>\n",
       "      <td>Normalladeeinrichtung</td>\n",
       "      <td>...</td>\n",
       "      <td>NaN</td>\n",
       "      <td>AC Steckdose Typ 2</td>\n",
       "      <td>22.0</td>\n",
       "      <td>NaN</td>\n",
       "      <td>NaN</td>\n",
       "      <td>NaN</td>\n",
       "      <td>NaN</td>\n",
       "      <td>NaN</td>\n",
       "      <td>NaN</td>\n",
       "      <td>NaN</td>\n",
       "    </tr>\n",
       "    <tr>\n",
       "      <th>3</th>\n",
       "      <td>innogy eMobility Solutions GmbH</td>\n",
       "      <td>Gartenstraße 13</td>\n",
       "      <td>10115 Berlin</td>\n",
       "      <td>Berlin</td>\n",
       "      <td>Kreisfreie Stadt Berlin</td>\n",
       "      <td>13.391350</td>\n",
       "      <td>52.530483</td>\n",
       "      <td>40282.0</td>\n",
       "      <td>44.0</td>\n",
       "      <td>Normalladeeinrichtung</td>\n",
       "      <td>...</td>\n",
       "      <td>NaN</td>\n",
       "      <td>AC Steckdose Typ 2</td>\n",
       "      <td>22.0</td>\n",
       "      <td>NaN</td>\n",
       "      <td>NaN</td>\n",
       "      <td>NaN</td>\n",
       "      <td>NaN</td>\n",
       "      <td>NaN</td>\n",
       "      <td>NaN</td>\n",
       "      <td>NaN</td>\n",
       "    </tr>\n",
       "    <tr>\n",
       "      <th>4</th>\n",
       "      <td>Allego GmbH</td>\n",
       "      <td>Habersaathstr. 34</td>\n",
       "      <td>10115 Berlin</td>\n",
       "      <td>Berlin</td>\n",
       "      <td>Kreisfreie Stadt Berlin</td>\n",
       "      <td>13.377620</td>\n",
       "      <td>52.531847</td>\n",
       "      <td>42725.0</td>\n",
       "      <td>22.0</td>\n",
       "      <td>Normalladeeinrichtung</td>\n",
       "      <td>...</td>\n",
       "      <td>NaN</td>\n",
       "      <td>AC Steckdose Typ 2</td>\n",
       "      <td>11.0</td>\n",
       "      <td>NaN</td>\n",
       "      <td>NaN</td>\n",
       "      <td>NaN</td>\n",
       "      <td>NaN</td>\n",
       "      <td>NaN</td>\n",
       "      <td>NaN</td>\n",
       "      <td>NaN</td>\n",
       "    </tr>\n",
       "  </tbody>\n",
       "</table>\n",
       "<p>5 rows × 23 columns</p>\n",
       "</div>"
      ],
      "text/plain": [
       "                         Betreiber            Adresse Postleitzahl Ort  \\\n",
       "0  innogy eMobility Solutions GmbH       Boyenstr. 23     10115 Berlin   \n",
       "1  innogy eMobility Solutions GmbH    Anklamer Str. 8     10115 Berlin   \n",
       "2  innogy eMobility Solutions GmbH      Torstraße 165     10115 Berlin   \n",
       "3  innogy eMobility Solutions GmbH    Gartenstraße 13     10115 Berlin   \n",
       "4                      Allego GmbH  Habersaathstr. 34     10115 Berlin   \n",
       "\n",
       "  Bundesland                Landkreis  Längengrad [DG]  Breitengrad [DG]  \\\n",
       "0     Berlin  Kreisfreie Stadt Berlin        13.368842         52.535955   \n",
       "1     Berlin  Kreisfreie Stadt Berlin        13.395824         52.534398   \n",
       "2     Berlin  Kreisfreie Stadt Berlin        13.395841         52.529125   \n",
       "3     Berlin  Kreisfreie Stadt Berlin        13.391350         52.530483   \n",
       "4     Berlin  Kreisfreie Stadt Berlin        13.377620         52.531847   \n",
       "\n",
       "   Inbetriebnahmedatum  Anschlussleistung [kW] Art der Ladeeinrichtung  ...  \\\n",
       "0              40008.0                    44.0   Normalladeeinrichtung  ...   \n",
       "1              40008.0                    44.0   Normalladeeinrichtung  ...   \n",
       "2              40282.0                    44.0   Normalladeeinrichtung  ...   \n",
       "3              40282.0                    44.0   Normalladeeinrichtung  ...   \n",
       "4              42725.0                    22.0   Normalladeeinrichtung  ...   \n",
       "\n",
       "   Public Key1       Steckertypen2  P2 [kW] Public Key2 Steckertypen3  \\\n",
       "0          NaN  AC Steckdose Typ 2     22.0         NaN           NaN   \n",
       "1          NaN  AC Steckdose Typ 2     22.0         NaN           NaN   \n",
       "2          NaN  AC Steckdose Typ 2     22.0         NaN           NaN   \n",
       "3          NaN  AC Steckdose Typ 2     22.0         NaN           NaN   \n",
       "4          NaN  AC Steckdose Typ 2     11.0         NaN           NaN   \n",
       "\n",
       "   P3 [kW] Public Key3 Steckertypen4  P4 [kW]  Spalte1  \n",
       "0      NaN         NaN           NaN      NaN      NaN  \n",
       "1      NaN         NaN           NaN      NaN      NaN  \n",
       "2      NaN         NaN           NaN      NaN      NaN  \n",
       "3      NaN         NaN           NaN      NaN      NaN  \n",
       "4      NaN         NaN           NaN      NaN      NaN  \n",
       "\n",
       "[5 rows x 23 columns]"
      ]
     },
     "execution_count": 9,
     "metadata": {},
     "output_type": "execute_result"
    }
   ],
   "source": [
    "#read the excel for income in berlin from rbb\n",
    "df_charging = pd.read_excel('berlin_charging_stations.xlsx')\n",
    "df_charging.head()"
   ]
  },
  {
   "cell_type": "code",
   "execution_count": 10,
   "metadata": {},
   "outputs": [
    {
     "data": {
      "text/html": [
       "<div>\n",
       "<style scoped>\n",
       "    .dataframe tbody tr th:only-of-type {\n",
       "        vertical-align: middle;\n",
       "    }\n",
       "\n",
       "    .dataframe tbody tr th {\n",
       "        vertical-align: top;\n",
       "    }\n",
       "\n",
       "    .dataframe thead th {\n",
       "        text-align: right;\n",
       "    }\n",
       "</style>\n",
       "<table border=\"1\" class=\"dataframe\">\n",
       "  <thead>\n",
       "    <tr style=\"text-align: right;\">\n",
       "      <th></th>\n",
       "      <th>Einwohner</th>\n",
       "      <th>Flaeche</th>\n",
       "    </tr>\n",
       "    <tr>\n",
       "      <th>Stadtteil</th>\n",
       "      <th></th>\n",
       "      <th></th>\n",
       "    </tr>\n",
       "  </thead>\n",
       "  <tbody>\n",
       "    <tr>\n",
       "      <th>Charlottenburg-Wilmersdorf</th>\n",
       "      <td>343592</td>\n",
       "      <td>6469</td>\n",
       "    </tr>\n",
       "    <tr>\n",
       "      <th>Steglitz-Zehlendorf</th>\n",
       "      <td>310071</td>\n",
       "      <td>10256</td>\n",
       "    </tr>\n",
       "    <tr>\n",
       "      <th>Friedrichshain-Kreuzberg</th>\n",
       "      <td>290386</td>\n",
       "      <td>2040</td>\n",
       "    </tr>\n",
       "    <tr>\n",
       "      <th>Pankow</th>\n",
       "      <td>409335</td>\n",
       "      <td>10322</td>\n",
       "    </tr>\n",
       "    <tr>\n",
       "      <th>Mitte</th>\n",
       "      <td>385748</td>\n",
       "      <td>3940</td>\n",
       "    </tr>\n",
       "  </tbody>\n",
       "</table>\n",
       "</div>"
      ],
      "text/plain": [
       "                            Einwohner  Flaeche\n",
       "Stadtteil                                     \n",
       "Charlottenburg-Wilmersdorf     343592     6469\n",
       "Steglitz-Zehlendorf            310071    10256\n",
       "Friedrichshain-Kreuzberg       290386     2040\n",
       "Pankow                         409335    10322\n",
       "Mitte                          385748     3940"
      ]
     },
     "execution_count": 10,
     "metadata": {},
     "output_type": "execute_result"
    }
   ],
   "source": [
    "df_inhabitants=pd.read_excel('berlin_inhabitants.xlsx')\n",
    "df_inhabitants.set_index(df_inhabitants['Stadtteil'], inplace=True)\n",
    "df_inhabitants.drop(['Stadtteil'], inplace=True, axis=1)\n",
    "df_inhabitants.head()"
   ]
  },
  {
   "cell_type": "code",
   "execution_count": 11,
   "metadata": {},
   "outputs": [
    {
     "name": "stdout",
     "output_type": "stream",
     "text": [
      "The coordinates of Pankow are 52.5979174, 13.435316.\n"
     ]
    }
   ],
   "source": [
    "# get the coordinates of the town parts\n",
    "# importing location of Pankow for testing\n",
    "adress=('Pankow, Berlin')\n",
    "geolocator = Nominatim(user_agent=\"charging_situation_in_berlin\")\n",
    "location = geolocator.geocode(adress)\n",
    "latitude = location.latitude\n",
    "longitude = location.longitude\n",
    "print('The coordinates of Pankow are {}, {}.'.format(latitude, longitude))"
   ]
  },
  {
   "cell_type": "code",
   "execution_count": 15,
   "metadata": {},
   "outputs": [],
   "source": [
    "# sourcing the geo coordinates to every neighborhood\n",
    "latitude=['']*df_income.shape[1]\n",
    "longitude=['']*df_income.shape[1]\n",
    "geolocator = Nominatim(user_agent=\"charging_situation_in_berlin\")\n",
    "i=0\n",
    "for i in range(df_income.shape[1]):\n",
    "    location = geolocator.geocode(adress)\n",
    "    adress=(df_income.columns[i] + ', Berlin')\n",
    "    latitude[i] = location.latitude\n",
    "    longitude[i] = location.longitude\n",
    "latitude[4]=latitude[4]-0.01"
   ]
  },
  {
   "cell_type": "code",
   "execution_count": 16,
   "metadata": {},
   "outputs": [
    {
     "data": {
      "text/html": [
       "<div>\n",
       "<style scoped>\n",
       "    .dataframe tbody tr th:only-of-type {\n",
       "        vertical-align: middle;\n",
       "    }\n",
       "\n",
       "    .dataframe tbody tr th {\n",
       "        vertical-align: top;\n",
       "    }\n",
       "\n",
       "    .dataframe thead th {\n",
       "        text-align: right;\n",
       "    }\n",
       "</style>\n",
       "<table border=\"1\" class=\"dataframe\">\n",
       "  <thead>\n",
       "    <tr style=\"text-align: right;\">\n",
       "      <th></th>\n",
       "      <th>Charlottenburg-Wilmersdorf</th>\n",
       "      <th>Steglitz-Zehlendorf</th>\n",
       "      <th>Friedrichshain-Kreuzberg</th>\n",
       "      <th>Pankow</th>\n",
       "      <th>Mitte</th>\n",
       "      <th>Tempelhof-Schöneberg</th>\n",
       "      <th>Treptow-Köpenick</th>\n",
       "      <th>Reinickendorf</th>\n",
       "      <th>Neukölln</th>\n",
       "      <th>Lichtenberg</th>\n",
       "      <th>Spandau</th>\n",
       "      <th>Marzahn-Hellersdorf</th>\n",
       "    </tr>\n",
       "    <tr>\n",
       "      <th></th>\n",
       "      <th></th>\n",
       "      <th></th>\n",
       "      <th></th>\n",
       "      <th></th>\n",
       "      <th></th>\n",
       "      <th></th>\n",
       "      <th></th>\n",
       "      <th></th>\n",
       "      <th></th>\n",
       "      <th></th>\n",
       "      <th></th>\n",
       "      <th></th>\n",
       "    </tr>\n",
       "  </thead>\n",
       "  <tbody>\n",
       "    <tr>\n",
       "      <th>Below_2000</th>\n",
       "      <td>15.800000</td>\n",
       "      <td>14.300000</td>\n",
       "      <td>16.100000</td>\n",
       "      <td>13.800000</td>\n",
       "      <td>19.600000</td>\n",
       "      <td>17.700000</td>\n",
       "      <td>17.300000</td>\n",
       "      <td>21.400000</td>\n",
       "      <td>23.600000</td>\n",
       "      <td>21.50000</td>\n",
       "      <td>24.700000</td>\n",
       "      <td>26.000000</td>\n",
       "    </tr>\n",
       "    <tr>\n",
       "      <th>Above_5700</th>\n",
       "      <td>14.200000</td>\n",
       "      <td>14.300000</td>\n",
       "      <td>8.100000</td>\n",
       "      <td>8.000000</td>\n",
       "      <td>8.600000</td>\n",
       "      <td>9.200000</td>\n",
       "      <td>4.800000</td>\n",
       "      <td>8.800000</td>\n",
       "      <td>4.800000</td>\n",
       "      <td>3.10000</td>\n",
       "      <td>6.300000</td>\n",
       "      <td>2.900000</td>\n",
       "    </tr>\n",
       "    <tr>\n",
       "      <th>Average</th>\n",
       "      <td>3573.000000</td>\n",
       "      <td>3553.000000</td>\n",
       "      <td>3375.000000</td>\n",
       "      <td>3358.000000</td>\n",
       "      <td>3224.000000</td>\n",
       "      <td>3194.000000</td>\n",
       "      <td>3041.000000</td>\n",
       "      <td>2984.000000</td>\n",
       "      <td>2855.000000</td>\n",
       "      <td>2810.00000</td>\n",
       "      <td>2761.000000</td>\n",
       "      <td>2647.000000</td>\n",
       "    </tr>\n",
       "    <tr>\n",
       "      <th>3</th>\n",
       "      <td>52.597917</td>\n",
       "      <td>52.507856</td>\n",
       "      <td>52.429205</td>\n",
       "      <td>52.501115</td>\n",
       "      <td>52.597917</td>\n",
       "      <td>52.517885</td>\n",
       "      <td>52.440603</td>\n",
       "      <td>52.417893</td>\n",
       "      <td>52.604763</td>\n",
       "      <td>52.48115</td>\n",
       "      <td>52.532161</td>\n",
       "      <td>52.535788</td>\n",
       "    </tr>\n",
       "    <tr>\n",
       "      <th>4</th>\n",
       "      <td>13.435316</td>\n",
       "      <td>13.263952</td>\n",
       "      <td>13.229974</td>\n",
       "      <td>13.444285</td>\n",
       "      <td>13.435316</td>\n",
       "      <td>13.404060</td>\n",
       "      <td>13.373703</td>\n",
       "      <td>13.600185</td>\n",
       "      <td>13.295287</td>\n",
       "      <td>13.43535</td>\n",
       "      <td>13.511893</td>\n",
       "      <td>13.197792</td>\n",
       "    </tr>\n",
       "    <tr>\n",
       "      <th>5</th>\n",
       "      <td>52.522523</td>\n",
       "      <td>52.507856</td>\n",
       "      <td>52.429205</td>\n",
       "      <td>52.501115</td>\n",
       "      <td>52.587917</td>\n",
       "      <td>52.517885</td>\n",
       "      <td>52.440603</td>\n",
       "      <td>52.417893</td>\n",
       "      <td>52.604763</td>\n",
       "      <td>52.48115</td>\n",
       "      <td>52.532161</td>\n",
       "      <td>52.535788</td>\n",
       "    </tr>\n",
       "    <tr>\n",
       "      <th>6</th>\n",
       "      <td>13.587663</td>\n",
       "      <td>13.263952</td>\n",
       "      <td>13.229974</td>\n",
       "      <td>13.444285</td>\n",
       "      <td>13.435316</td>\n",
       "      <td>13.404060</td>\n",
       "      <td>13.373703</td>\n",
       "      <td>13.600185</td>\n",
       "      <td>13.295287</td>\n",
       "      <td>13.43535</td>\n",
       "      <td>13.511893</td>\n",
       "      <td>13.197792</td>\n",
       "    </tr>\n",
       "  </tbody>\n",
       "</table>\n",
       "</div>"
      ],
      "text/plain": [
       "            Charlottenburg-Wilmersdorf  Steglitz-Zehlendorf  \\\n",
       "                                                              \n",
       "Below_2000                   15.800000            14.300000   \n",
       "Above_5700                   14.200000            14.300000   \n",
       "Average                    3573.000000          3553.000000   \n",
       "3                            52.597917            52.507856   \n",
       "4                            13.435316            13.263952   \n",
       "5                            52.522523            52.507856   \n",
       "6                            13.587663            13.263952   \n",
       "\n",
       "            Friedrichshain-Kreuzberg       Pankow        Mitte  \\\n",
       "                                                                 \n",
       "Below_2000                 16.100000    13.800000    19.600000   \n",
       "Above_5700                  8.100000     8.000000     8.600000   \n",
       "Average                  3375.000000  3358.000000  3224.000000   \n",
       "3                          52.429205    52.501115    52.597917   \n",
       "4                          13.229974    13.444285    13.435316   \n",
       "5                          52.429205    52.501115    52.587917   \n",
       "6                          13.229974    13.444285    13.435316   \n",
       "\n",
       "            Tempelhof-Schöneberg  Treptow-Köpenick  Reinickendorf  \\\n",
       "                                                                    \n",
       "Below_2000             17.700000         17.300000      21.400000   \n",
       "Above_5700              9.200000          4.800000       8.800000   \n",
       "Average              3194.000000       3041.000000    2984.000000   \n",
       "3                      52.517885         52.440603      52.417893   \n",
       "4                      13.404060         13.373703      13.600185   \n",
       "5                      52.517885         52.440603      52.417893   \n",
       "6                      13.404060         13.373703      13.600185   \n",
       "\n",
       "               Neukölln  Lichtenberg      Spandau  Marzahn-Hellersdorf  \n",
       "                                                                        \n",
       "Below_2000    23.600000     21.50000    24.700000            26.000000  \n",
       "Above_5700     4.800000      3.10000     6.300000             2.900000  \n",
       "Average     2855.000000   2810.00000  2761.000000          2647.000000  \n",
       "3             52.604763     52.48115    52.532161            52.535788  \n",
       "4             13.295287     13.43535    13.511893            13.197792  \n",
       "5             52.604763     52.48115    52.532161            52.535788  \n",
       "6             13.295287     13.43535    13.511893            13.197792  "
      ]
     },
     "execution_count": 16,
     "metadata": {},
     "output_type": "execute_result"
    }
   ],
   "source": [
    "# appending the data as a new row in df_income\n",
    "df_income.loc[len(df_income)] = latitude\n",
    "df_income.loc[len(df_income)] = longitude\n",
    "df_income"
   ]
  },
  {
   "cell_type": "code",
   "execution_count": 18,
   "metadata": {},
   "outputs": [
    {
     "data": {
      "text/html": [
       "<div>\n",
       "<style scoped>\n",
       "    .dataframe tbody tr th:only-of-type {\n",
       "        vertical-align: middle;\n",
       "    }\n",
       "\n",
       "    .dataframe tbody tr th {\n",
       "        vertical-align: top;\n",
       "    }\n",
       "\n",
       "    .dataframe thead th {\n",
       "        text-align: right;\n",
       "    }\n",
       "</style>\n",
       "<table border=\"1\" class=\"dataframe\">\n",
       "  <thead>\n",
       "    <tr style=\"text-align: right;\">\n",
       "      <th></th>\n",
       "      <th>Below_2000</th>\n",
       "      <th>Above_5700</th>\n",
       "      <th>Average</th>\n",
       "      <th>3</th>\n",
       "      <th>4</th>\n",
       "      <th>5</th>\n",
       "      <th>6</th>\n",
       "    </tr>\n",
       "  </thead>\n",
       "  <tbody>\n",
       "    <tr>\n",
       "      <th>Charlottenburg-Wilmersdorf</th>\n",
       "      <td>15.8</td>\n",
       "      <td>14.2</td>\n",
       "      <td>3573.0</td>\n",
       "      <td>52.597917</td>\n",
       "      <td>13.435316</td>\n",
       "      <td>52.522523</td>\n",
       "      <td>13.587663</td>\n",
       "    </tr>\n",
       "    <tr>\n",
       "      <th>Steglitz-Zehlendorf</th>\n",
       "      <td>14.3</td>\n",
       "      <td>14.3</td>\n",
       "      <td>3553.0</td>\n",
       "      <td>52.507856</td>\n",
       "      <td>13.263952</td>\n",
       "      <td>52.507856</td>\n",
       "      <td>13.263952</td>\n",
       "    </tr>\n",
       "    <tr>\n",
       "      <th>Friedrichshain-Kreuzberg</th>\n",
       "      <td>16.1</td>\n",
       "      <td>8.1</td>\n",
       "      <td>3375.0</td>\n",
       "      <td>52.429205</td>\n",
       "      <td>13.229974</td>\n",
       "      <td>52.429205</td>\n",
       "      <td>13.229974</td>\n",
       "    </tr>\n",
       "    <tr>\n",
       "      <th>Pankow</th>\n",
       "      <td>13.8</td>\n",
       "      <td>8.0</td>\n",
       "      <td>3358.0</td>\n",
       "      <td>52.501115</td>\n",
       "      <td>13.444285</td>\n",
       "      <td>52.501115</td>\n",
       "      <td>13.444285</td>\n",
       "    </tr>\n",
       "    <tr>\n",
       "      <th>Mitte</th>\n",
       "      <td>19.6</td>\n",
       "      <td>8.6</td>\n",
       "      <td>3224.0</td>\n",
       "      <td>52.597917</td>\n",
       "      <td>13.435316</td>\n",
       "      <td>52.587917</td>\n",
       "      <td>13.435316</td>\n",
       "    </tr>\n",
       "    <tr>\n",
       "      <th>Tempelhof-Schöneberg</th>\n",
       "      <td>17.7</td>\n",
       "      <td>9.2</td>\n",
       "      <td>3194.0</td>\n",
       "      <td>52.517885</td>\n",
       "      <td>13.404060</td>\n",
       "      <td>52.517885</td>\n",
       "      <td>13.404060</td>\n",
       "    </tr>\n",
       "    <tr>\n",
       "      <th>Treptow-Köpenick</th>\n",
       "      <td>17.3</td>\n",
       "      <td>4.8</td>\n",
       "      <td>3041.0</td>\n",
       "      <td>52.440603</td>\n",
       "      <td>13.373703</td>\n",
       "      <td>52.440603</td>\n",
       "      <td>13.373703</td>\n",
       "    </tr>\n",
       "    <tr>\n",
       "      <th>Reinickendorf</th>\n",
       "      <td>21.4</td>\n",
       "      <td>8.8</td>\n",
       "      <td>2984.0</td>\n",
       "      <td>52.417893</td>\n",
       "      <td>13.600185</td>\n",
       "      <td>52.417893</td>\n",
       "      <td>13.600185</td>\n",
       "    </tr>\n",
       "    <tr>\n",
       "      <th>Neukölln</th>\n",
       "      <td>23.6</td>\n",
       "      <td>4.8</td>\n",
       "      <td>2855.0</td>\n",
       "      <td>52.604763</td>\n",
       "      <td>13.295287</td>\n",
       "      <td>52.604763</td>\n",
       "      <td>13.295287</td>\n",
       "    </tr>\n",
       "    <tr>\n",
       "      <th>Lichtenberg</th>\n",
       "      <td>21.5</td>\n",
       "      <td>3.1</td>\n",
       "      <td>2810.0</td>\n",
       "      <td>52.481150</td>\n",
       "      <td>13.435350</td>\n",
       "      <td>52.481150</td>\n",
       "      <td>13.435350</td>\n",
       "    </tr>\n",
       "    <tr>\n",
       "      <th>Spandau</th>\n",
       "      <td>24.7</td>\n",
       "      <td>6.3</td>\n",
       "      <td>2761.0</td>\n",
       "      <td>52.532161</td>\n",
       "      <td>13.511893</td>\n",
       "      <td>52.532161</td>\n",
       "      <td>13.511893</td>\n",
       "    </tr>\n",
       "    <tr>\n",
       "      <th>Marzahn-Hellersdorf</th>\n",
       "      <td>26.0</td>\n",
       "      <td>2.9</td>\n",
       "      <td>2647.0</td>\n",
       "      <td>52.535788</td>\n",
       "      <td>13.197792</td>\n",
       "      <td>52.535788</td>\n",
       "      <td>13.197792</td>\n",
       "    </tr>\n",
       "  </tbody>\n",
       "</table>\n",
       "</div>"
      ],
      "text/plain": [
       "                            Below_2000  Above_5700  Average          3  \\\n",
       "Charlottenburg-Wilmersdorf        15.8        14.2   3573.0  52.597917   \n",
       "Steglitz-Zehlendorf               14.3        14.3   3553.0  52.507856   \n",
       "Friedrichshain-Kreuzberg          16.1         8.1   3375.0  52.429205   \n",
       "Pankow                            13.8         8.0   3358.0  52.501115   \n",
       "Mitte                             19.6         8.6   3224.0  52.597917   \n",
       "Tempelhof-Schöneberg              17.7         9.2   3194.0  52.517885   \n",
       "Treptow-Köpenick                  17.3         4.8   3041.0  52.440603   \n",
       "Reinickendorf                     21.4         8.8   2984.0  52.417893   \n",
       "Neukölln                          23.6         4.8   2855.0  52.604763   \n",
       "Lichtenberg                       21.5         3.1   2810.0  52.481150   \n",
       "Spandau                           24.7         6.3   2761.0  52.532161   \n",
       "Marzahn-Hellersdorf               26.0         2.9   2647.0  52.535788   \n",
       "\n",
       "                                    4          5          6  \n",
       "Charlottenburg-Wilmersdorf  13.435316  52.522523  13.587663  \n",
       "Steglitz-Zehlendorf         13.263952  52.507856  13.263952  \n",
       "Friedrichshain-Kreuzberg    13.229974  52.429205  13.229974  \n",
       "Pankow                      13.444285  52.501115  13.444285  \n",
       "Mitte                       13.435316  52.587917  13.435316  \n",
       "Tempelhof-Schöneberg        13.404060  52.517885  13.404060  \n",
       "Treptow-Köpenick            13.373703  52.440603  13.373703  \n",
       "Reinickendorf               13.600185  52.417893  13.600185  \n",
       "Neukölln                    13.295287  52.604763  13.295287  \n",
       "Lichtenberg                 13.435350  52.481150  13.435350  \n",
       "Spandau                     13.511893  52.532161  13.511893  \n",
       "Marzahn-Hellersdorf         13.197792  52.535788  13.197792  "
      ]
     },
     "execution_count": 18,
     "metadata": {},
     "output_type": "execute_result"
    }
   ],
   "source": [
    "# let´s transpose the df\n",
    "df_income = df_income.transpose()\n",
    "df_income"
   ]
  },
  {
   "cell_type": "code",
   "execution_count": 19,
   "metadata": {},
   "outputs": [
    {
     "data": {
      "text/html": [
       "<div>\n",
       "<style scoped>\n",
       "    .dataframe tbody tr th:only-of-type {\n",
       "        vertical-align: middle;\n",
       "    }\n",
       "\n",
       "    .dataframe tbody tr th {\n",
       "        vertical-align: top;\n",
       "    }\n",
       "\n",
       "    .dataframe thead th {\n",
       "        text-align: right;\n",
       "    }\n",
       "</style>\n",
       "<table border=\"1\" class=\"dataframe\">\n",
       "  <thead>\n",
       "    <tr style=\"text-align: right;\">\n",
       "      <th></th>\n",
       "      <th>PLZ_von</th>\n",
       "      <th>Stadtteil</th>\n",
       "    </tr>\n",
       "  </thead>\n",
       "  <tbody>\n",
       "    <tr>\n",
       "      <th>0</th>\n",
       "      <td>10115</td>\n",
       "      <td>Mitte</td>\n",
       "    </tr>\n",
       "    <tr>\n",
       "      <th>1</th>\n",
       "      <td>10559</td>\n",
       "      <td>Mitte</td>\n",
       "    </tr>\n",
       "    <tr>\n",
       "      <th>2</th>\n",
       "      <td>13355</td>\n",
       "      <td>Mitte</td>\n",
       "    </tr>\n",
       "    <tr>\n",
       "      <th>3</th>\n",
       "      <td>10117</td>\n",
       "      <td>Mitte</td>\n",
       "    </tr>\n",
       "    <tr>\n",
       "      <th>4</th>\n",
       "      <td>10623</td>\n",
       "      <td>Mitte</td>\n",
       "    </tr>\n",
       "    <tr>\n",
       "      <th>...</th>\n",
       "      <td>...</td>\n",
       "      <td>...</td>\n",
       "    </tr>\n",
       "    <tr>\n",
       "      <th>239</th>\n",
       "      <td>13509</td>\n",
       "      <td>Reinickendorf</td>\n",
       "    </tr>\n",
       "    <tr>\n",
       "      <th>242</th>\n",
       "      <td>12154</td>\n",
       "      <td>Steglitz-Zehlendorf</td>\n",
       "    </tr>\n",
       "    <tr>\n",
       "      <th>243</th>\n",
       "      <td>13501</td>\n",
       "      <td>Spandau</td>\n",
       "    </tr>\n",
       "    <tr>\n",
       "      <th>244</th>\n",
       "      <td>14597</td>\n",
       "      <td>Spandau</td>\n",
       "    </tr>\n",
       "    <tr>\n",
       "      <th>245</th>\n",
       "      <td>42329</td>\n",
       "      <td>Steglitz-Zehlendorf</td>\n",
       "    </tr>\n",
       "  </tbody>\n",
       "</table>\n",
       "<p>194 rows × 2 columns</p>\n",
       "</div>"
      ],
      "text/plain": [
       "     PLZ_von            Stadtteil\n",
       "0      10115                Mitte\n",
       "1      10559                Mitte\n",
       "2      13355                Mitte\n",
       "3      10117                Mitte\n",
       "4      10623                Mitte\n",
       "..       ...                  ...\n",
       "239    13509        Reinickendorf\n",
       "242    12154  Steglitz-Zehlendorf\n",
       "243    13501              Spandau\n",
       "244    14597              Spandau\n",
       "245    42329  Steglitz-Zehlendorf\n",
       "\n",
       "[194 rows x 2 columns]"
      ]
     },
     "execution_count": 19,
     "metadata": {},
     "output_type": "execute_result"
    }
   ],
   "source": [
    "# last we need to import a dataset to map the charging stations to a neighborhood\n",
    "# we can do this by using the postal code\n",
    "df_postcode = pd.read_excel('berlin_postal_code.xlsx')\n",
    "df_postcode.drop_duplicates(subset=['PLZ_von'], inplace=True)\n",
    "df_postcode"
   ]
  },
  {
   "cell_type": "code",
   "execution_count": 20,
   "metadata": {},
   "outputs": [
    {
     "data": {
      "text/html": [
       "<div>\n",
       "<style scoped>\n",
       "    .dataframe tbody tr th:only-of-type {\n",
       "        vertical-align: middle;\n",
       "    }\n",
       "\n",
       "    .dataframe tbody tr th {\n",
       "        vertical-align: top;\n",
       "    }\n",
       "\n",
       "    .dataframe thead th {\n",
       "        text-align: right;\n",
       "    }\n",
       "</style>\n",
       "<table border=\"1\" class=\"dataframe\">\n",
       "  <thead>\n",
       "    <tr style=\"text-align: right;\">\n",
       "      <th></th>\n",
       "      <th>Betreiber</th>\n",
       "      <th>Adresse</th>\n",
       "      <th>Postleitzahl Ort</th>\n",
       "      <th>Bundesland</th>\n",
       "      <th>Landkreis</th>\n",
       "      <th>Längengrad [DG]</th>\n",
       "      <th>Breitengrad [DG]</th>\n",
       "      <th>Inbetriebnahmedatum</th>\n",
       "      <th>Anschlussleistung [kW]</th>\n",
       "      <th>Art der Ladeeinrichtung</th>\n",
       "      <th>...</th>\n",
       "      <th>Steckertypen2</th>\n",
       "      <th>P2 [kW]</th>\n",
       "      <th>Public Key2</th>\n",
       "      <th>Steckertypen3</th>\n",
       "      <th>P3 [kW]</th>\n",
       "      <th>Public Key3</th>\n",
       "      <th>Steckertypen4</th>\n",
       "      <th>P4 [kW]</th>\n",
       "      <th>Spalte1</th>\n",
       "      <th>Neighborhood</th>\n",
       "    </tr>\n",
       "  </thead>\n",
       "  <tbody>\n",
       "    <tr>\n",
       "      <th>0</th>\n",
       "      <td>innogy eMobility Solutions GmbH</td>\n",
       "      <td>Boyenstr. 23</td>\n",
       "      <td>10115 Berlin</td>\n",
       "      <td>Berlin</td>\n",
       "      <td>Kreisfreie Stadt Berlin</td>\n",
       "      <td>13.368842</td>\n",
       "      <td>52.535955</td>\n",
       "      <td>40008.0</td>\n",
       "      <td>44.0</td>\n",
       "      <td>Normalladeeinrichtung</td>\n",
       "      <td>...</td>\n",
       "      <td>AC Steckdose Typ 2</td>\n",
       "      <td>22.0</td>\n",
       "      <td>NaN</td>\n",
       "      <td>NaN</td>\n",
       "      <td>NaN</td>\n",
       "      <td>NaN</td>\n",
       "      <td>NaN</td>\n",
       "      <td>NaN</td>\n",
       "      <td>NaN</td>\n",
       "      <td>Mitte</td>\n",
       "    </tr>\n",
       "    <tr>\n",
       "      <th>1</th>\n",
       "      <td>innogy eMobility Solutions GmbH</td>\n",
       "      <td>Anklamer Str. 8</td>\n",
       "      <td>10115 Berlin</td>\n",
       "      <td>Berlin</td>\n",
       "      <td>Kreisfreie Stadt Berlin</td>\n",
       "      <td>13.395824</td>\n",
       "      <td>52.534398</td>\n",
       "      <td>40008.0</td>\n",
       "      <td>44.0</td>\n",
       "      <td>Normalladeeinrichtung</td>\n",
       "      <td>...</td>\n",
       "      <td>AC Steckdose Typ 2</td>\n",
       "      <td>22.0</td>\n",
       "      <td>NaN</td>\n",
       "      <td>NaN</td>\n",
       "      <td>NaN</td>\n",
       "      <td>NaN</td>\n",
       "      <td>NaN</td>\n",
       "      <td>NaN</td>\n",
       "      <td>NaN</td>\n",
       "      <td>Mitte</td>\n",
       "    </tr>\n",
       "    <tr>\n",
       "      <th>2</th>\n",
       "      <td>innogy eMobility Solutions GmbH</td>\n",
       "      <td>Torstraße 165</td>\n",
       "      <td>10115 Berlin</td>\n",
       "      <td>Berlin</td>\n",
       "      <td>Kreisfreie Stadt Berlin</td>\n",
       "      <td>13.395841</td>\n",
       "      <td>52.529125</td>\n",
       "      <td>40282.0</td>\n",
       "      <td>44.0</td>\n",
       "      <td>Normalladeeinrichtung</td>\n",
       "      <td>...</td>\n",
       "      <td>AC Steckdose Typ 2</td>\n",
       "      <td>22.0</td>\n",
       "      <td>NaN</td>\n",
       "      <td>NaN</td>\n",
       "      <td>NaN</td>\n",
       "      <td>NaN</td>\n",
       "      <td>NaN</td>\n",
       "      <td>NaN</td>\n",
       "      <td>NaN</td>\n",
       "      <td>Mitte</td>\n",
       "    </tr>\n",
       "    <tr>\n",
       "      <th>3</th>\n",
       "      <td>innogy eMobility Solutions GmbH</td>\n",
       "      <td>Gartenstraße 13</td>\n",
       "      <td>10115 Berlin</td>\n",
       "      <td>Berlin</td>\n",
       "      <td>Kreisfreie Stadt Berlin</td>\n",
       "      <td>13.391350</td>\n",
       "      <td>52.530483</td>\n",
       "      <td>40282.0</td>\n",
       "      <td>44.0</td>\n",
       "      <td>Normalladeeinrichtung</td>\n",
       "      <td>...</td>\n",
       "      <td>AC Steckdose Typ 2</td>\n",
       "      <td>22.0</td>\n",
       "      <td>NaN</td>\n",
       "      <td>NaN</td>\n",
       "      <td>NaN</td>\n",
       "      <td>NaN</td>\n",
       "      <td>NaN</td>\n",
       "      <td>NaN</td>\n",
       "      <td>NaN</td>\n",
       "      <td>Mitte</td>\n",
       "    </tr>\n",
       "    <tr>\n",
       "      <th>4</th>\n",
       "      <td>Allego GmbH</td>\n",
       "      <td>Habersaathstr. 34</td>\n",
       "      <td>10115 Berlin</td>\n",
       "      <td>Berlin</td>\n",
       "      <td>Kreisfreie Stadt Berlin</td>\n",
       "      <td>13.377620</td>\n",
       "      <td>52.531847</td>\n",
       "      <td>42725.0</td>\n",
       "      <td>22.0</td>\n",
       "      <td>Normalladeeinrichtung</td>\n",
       "      <td>...</td>\n",
       "      <td>AC Steckdose Typ 2</td>\n",
       "      <td>11.0</td>\n",
       "      <td>NaN</td>\n",
       "      <td>NaN</td>\n",
       "      <td>NaN</td>\n",
       "      <td>NaN</td>\n",
       "      <td>NaN</td>\n",
       "      <td>NaN</td>\n",
       "      <td>NaN</td>\n",
       "      <td>Mitte</td>\n",
       "    </tr>\n",
       "  </tbody>\n",
       "</table>\n",
       "<p>5 rows × 24 columns</p>\n",
       "</div>"
      ],
      "text/plain": [
       "                         Betreiber            Adresse Postleitzahl Ort  \\\n",
       "0  innogy eMobility Solutions GmbH       Boyenstr. 23     10115 Berlin   \n",
       "1  innogy eMobility Solutions GmbH    Anklamer Str. 8     10115 Berlin   \n",
       "2  innogy eMobility Solutions GmbH      Torstraße 165     10115 Berlin   \n",
       "3  innogy eMobility Solutions GmbH    Gartenstraße 13     10115 Berlin   \n",
       "4                      Allego GmbH  Habersaathstr. 34     10115 Berlin   \n",
       "\n",
       "  Bundesland                Landkreis  Längengrad [DG]  Breitengrad [DG]  \\\n",
       "0     Berlin  Kreisfreie Stadt Berlin        13.368842         52.535955   \n",
       "1     Berlin  Kreisfreie Stadt Berlin        13.395824         52.534398   \n",
       "2     Berlin  Kreisfreie Stadt Berlin        13.395841         52.529125   \n",
       "3     Berlin  Kreisfreie Stadt Berlin        13.391350         52.530483   \n",
       "4     Berlin  Kreisfreie Stadt Berlin        13.377620         52.531847   \n",
       "\n",
       "   Inbetriebnahmedatum  Anschlussleistung [kW] Art der Ladeeinrichtung  ...  \\\n",
       "0              40008.0                    44.0   Normalladeeinrichtung  ...   \n",
       "1              40008.0                    44.0   Normalladeeinrichtung  ...   \n",
       "2              40282.0                    44.0   Normalladeeinrichtung  ...   \n",
       "3              40282.0                    44.0   Normalladeeinrichtung  ...   \n",
       "4              42725.0                    22.0   Normalladeeinrichtung  ...   \n",
       "\n",
       "        Steckertypen2 P2 [kW]  Public Key2 Steckertypen3 P3 [kW]  Public Key3  \\\n",
       "0  AC Steckdose Typ 2    22.0          NaN           NaN     NaN          NaN   \n",
       "1  AC Steckdose Typ 2    22.0          NaN           NaN     NaN          NaN   \n",
       "2  AC Steckdose Typ 2    22.0          NaN           NaN     NaN          NaN   \n",
       "3  AC Steckdose Typ 2    22.0          NaN           NaN     NaN          NaN   \n",
       "4  AC Steckdose Typ 2    11.0          NaN           NaN     NaN          NaN   \n",
       "\n",
       "  Steckertypen4 P4 [kW]  Spalte1  Neighborhood  \n",
       "0           NaN     NaN      NaN         Mitte  \n",
       "1           NaN     NaN      NaN         Mitte  \n",
       "2           NaN     NaN      NaN         Mitte  \n",
       "3           NaN     NaN      NaN         Mitte  \n",
       "4           NaN     NaN      NaN         Mitte  \n",
       "\n",
       "[5 rows x 24 columns]"
      ]
     },
     "execution_count": 20,
     "metadata": {},
     "output_type": "execute_result"
    }
   ],
   "source": [
    "# lets find the neighborhood for each charging station\n",
    "df_charging['Neighborhood']=np.nan \n",
    "neighborhood=[]\n",
    "for index, row in df_charging.iterrows():\n",
    "    #print(index, '   ', int(row[2][0:5]))\n",
    "    neighborhood.append(df_postcode['Stadtteil'].where(df_postcode['PLZ_von']==int(row[2][0:5])).dropna().iloc[0])\n",
    "   \n",
    "df_charging['Neighborhood']=neighborhood\n",
    "df_charging.head()"
   ]
  },
  {
   "cell_type": "markdown",
   "metadata": {},
   "source": [
    "### Conclusion from raw data:"
   ]
  },
  {
   "cell_type": "code",
   "execution_count": 21,
   "metadata": {},
   "outputs": [
    {
     "name": "stdout",
     "output_type": "stream",
     "text": [
      "Total number of charging stations:  651\n",
      "Total number of neighborhoods:  12\n",
      "Average income in neighborhoods reaches from  2647.0 € to  3573.0 €.\n",
      "\n",
      "Number of charging stations in each neighborhood:\n",
      " Mitte                         160\n",
      "Charlottenburg-Wilmersdorf    116\n",
      "Tempelhof-Schöneberg           83\n",
      "Pankow                         64\n",
      "Friedrichshain-Kreuzberg       52\n",
      "Steglitz-Zehlendorf            37\n",
      "Treptow-Köpenick               37\n",
      "Neukölln                       34\n",
      "Spandau                        26\n",
      "Lichtenberg                    22\n",
      "Marzahn-Hellersdorf            12\n",
      "Reinickendorf                   8\n",
      "Name: Neighborhood, dtype: int64\n"
     ]
    }
   ],
   "source": [
    "print('Total number of charging stations: ', len(df_charging))\n",
    "print('Total number of neighborhoods: ', len(df_income))\n",
    "print('Average income in neighborhoods reaches from ',  df_income['Average'].min(), '€ to ', df_income['Average'].max(), '€.')\n",
    "print('\\nNumber of charging stations in each neighborhood:\\n', df_charging['Neighborhood'].value_counts())"
   ]
  },
  {
   "cell_type": "markdown",
   "metadata": {},
   "source": [
    "### 5. Visualization of the Data"
   ]
  },
  {
   "cell_type": "code",
   "execution_count": 22,
   "metadata": {},
   "outputs": [
    {
     "name": "stdout",
     "output_type": "stream",
     "text": [
      "The geograpical coordinate of Berlin are 52.5170365, 13.3888599.\n"
     ]
    }
   ],
   "source": [
    "#lets show all charging stations around town\n",
    "address = 'Berlin, Berlin'\n",
    "\n",
    "geolocator = Nominatim(user_agent=\"charging_agent\")\n",
    "location = geolocator.geocode(address)\n",
    "latitude = location.latitude\n",
    "longitude = location.longitude\n",
    "print('The geograpical coordinate of Berlin are {}, {}.'.format(latitude, longitude))\n"
   ]
  },
  {
   "cell_type": "code",
   "execution_count": 23,
   "metadata": {},
   "outputs": [
    {
     "data": {
      "text/html": [
       "<div style=\"width:100%;\"><div style=\"position:relative;width:100%;height:0;padding-bottom:60%;\"><span style=\"color:#565656\">Make this Notebook Trusted to load map: File -> Trust Notebook</span><iframe src=\"about:blank\" style=\"position:absolute;width:100%;height:100%;left:0;top:0;border:none !important;\" data-html=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 onload=\"this.contentDocument.open();this.contentDocument.write(atob(this.getAttribute('data-html')));this.contentDocument.close();\" allowfullscreen webkitallowfullscreen mozallowfullscreen></iframe></div></div>"
      ],
      "text/plain": [
       "<folium.folium.Map at 0x7f1c6cc23898>"
      ]
     },
     "execution_count": 23,
     "metadata": {},
     "output_type": "execute_result"
    }
   ],
   "source": [
    "# create map of Berlin using latitude and longitude values\n",
    "map_berlin = folium.Map(location=[latitude, longitude], zoom_start=11)\n",
    "\n",
    "# add markers to map\n",
    "for lat, lng, label in zip(df_income.transpose().values.tolist()[3],df_income.transpose().values.tolist()[4], df_income.transpose().columns):\n",
    "    label = folium.Popup(label, parse_html=True)\n",
    "    folium.CircleMarker(\n",
    "        [lat, lng],\n",
    "        radius=5,\n",
    "        popup=label,\n",
    "        color='blue',\n",
    "        fill=True,\n",
    "        fill_color='#3186cc',\n",
    "        fill_opacity=0.7,\n",
    "        parse_html=False).add_to(map_berlin)  \n",
    "    \n",
    "map_berlin"
   ]
  },
  {
   "cell_type": "code",
   "execution_count": 24,
   "metadata": {},
   "outputs": [],
   "source": [
    "# sort the neighborhoods in df_charging_counts and df_income\n",
    "df_ccounts = df_charging['Neighborhood'].value_counts()\n",
    "df_ccounts.sort_index(inplace=True)\n",
    "#print(df_ccounts)\n",
    "\n",
    "df_income.sort_index(inplace=True)\n",
    "\n",
    "#df_income_number_combined = df_ccounts\n",
    "#df_income_number_combined['average income']= df_income['Average']\n",
    "#df_income_number_combined"
   ]
  },
  {
   "cell_type": "code",
   "execution_count": 25,
   "metadata": {},
   "outputs": [
    {
     "data": {
      "image/png": "[encoded data removed]",
      "text/plain": [
       "<Figure size 432x288 with 1 Axes>"
      ]
     },
     "metadata": {
      "needs_background": "light"
     },
     "output_type": "display_data"
    }
   ],
   "source": [
    "# this shows the distribution of charging stations per neighborhood\n",
    "x=df_income['Average']\n",
    "y=df_ccounts\n",
    "plt.scatter(x, y) #, s=None, c=None), marker=list(df_income.index)) , cmap=None, norm=None, vmin=None, vmax=None, alpha=None, linewidths=None, verts=<deprecated parameter>, edgecolors=None, *, plotnonfinite=False, data=None, **kwargs)\n",
    "#plt.title('Average income to number of charging stations in Berlin Neighborhoods')\n",
    "plt.gca().update(dict(title='Average income to public charging stations', xlabel='Average income', ylabel='Number of charging stations', ylim=(0,200)))\n",
    "plt.show()"
   ]
  },
  {
   "cell_type": "code",
   "execution_count": 26,
   "metadata": {},
   "outputs": [
    {
     "name": "stdout",
     "output_type": "stream",
     "text": [
      "The outlier is Berlin Center.\n"
     ]
    }
   ],
   "source": [
    "# this looks pretty much like a linear regression. but first lets look at the outlier\n",
    "print('The outlier is Berlin Center.')"
   ]
  },
  {
   "cell_type": "code",
   "execution_count": 27,
   "metadata": {},
   "outputs": [
    {
     "data": {
      "image/png": "[encoded data removed]",
      "text/plain": [
       "<Figure size 432x288 with 1 Axes>"
      ]
     },
     "metadata": {
      "needs_background": "light"
     },
     "output_type": "display_data"
    }
   ],
   "source": [
    "# What if we plot it in dependency of the inhabitants?\n",
    "x=df_income['Average']\n",
    "y=df_ccounts/df_inhabitants['Einwohner']*1000\n",
    "plt.scatter(x, y) #, s=None, c=None), marker=list(df_income.index)) , cmap=None, norm=None, vmin=None, vmax=None, alpha=None, linewidths=None, verts=<deprecated parameter>, edgecolors=None, *, plotnonfinite=False, data=None, **kwargs)\n",
    "#plt.title('Average income to number of charging stations in Berlin Neighborhoods per inhabitants')\n",
    "plt.gca().update(dict(title='Average income to public charging stations per 1000 inhabitants', xlabel='Average income', ylabel='Number of charging stations', ylim=(0,1)))\n",
    "plt.show()"
   ]
  },
  {
   "cell_type": "code",
   "execution_count": 28,
   "metadata": {},
   "outputs": [
    {
     "data": {
      "image/png": "[encoded data removed]",
      "text/plain": [
       "<Figure size 432x288 with 1 Axes>"
      ]
     },
     "metadata": {
      "needs_background": "light"
     },
     "output_type": "display_data"
    }
   ],
   "source": [
    "# What about the size of each part of the town?\n",
    "x=df_income['Average']\n",
    "y=df_ccounts/df_inhabitants['Flaeche']*10\n",
    "plt.scatter(x, y) #, s=None, c=None), marker=list(df_income.index)) , cmap=None, norm=None, vmin=None, vmax=None, alpha=None, linewidths=None, verts=<deprecated parameter>, edgecolors=None, *, plotnonfinite=False, data=None, **kwargs)\n",
    "#plt.title('Average income to number of charging stations in Berlin Neighborhoods per 1000m^2')\n",
    "plt.gca().update(dict(title='Average income to public charging stations per 1000 inhabitants', xlabel='Average income', ylabel='Number of charging stations', ylim=(0,1)))\n",
    "plt.show()"
   ]
  },
  {
   "cell_type": "code",
   "execution_count": 29,
   "metadata": {},
   "outputs": [
    {
     "data": {
      "image/png": "[encoded data removed]",
      "text/plain": [
       "<Figure size 432x288 with 1 Axes>"
      ]
     },
     "metadata": {
      "needs_background": "light"
     },
     "output_type": "display_data"
    }
   ],
   "source": [
    "# What about the size of each part of the town?\n",
    "x=df_income['Average']\n",
    "y=df_ccounts/df_inhabitants['Flaeche']*10/df_inhabitants['Einwohner']*1000*1000\n",
    "plt.scatter(x, y) #, s=None, c=None), marker=list(df_income.index)) , cmap=None, norm=None, vmin=None, vmax=None, alpha=None, linewidths=None, verts=<deprecated parameter>, edgecolors=None, *, plotnonfinite=False, data=None, **kwargs)\n",
    "#plt.title('Average income to number of charging stations in Berlin Neighborhoods per 1000m^2')\n",
    "plt.gca().update(dict(title='Average income to public charging stations per 1000 inhabitants', xlabel='Average income', ylabel='Number of charging stations', ylim=(0,1.3)))\n",
    "plt.show()"
   ]
  },
  {
   "cell_type": "markdown",
   "metadata": {},
   "source": [
    "#### Conclusion:\n",
    "In all different scenarios, the average income in the part of the town seem to have a positive linear regression to the number of charging stations. Let´s try to put all this in one model."
   ]
  },
  {
   "cell_type": "markdown",
   "metadata": {},
   "source": [
    "### 6. Modeling"
   ]
  },
  {
   "cell_type": "markdown",
   "metadata": {},
   "source": [
    "The goal is to find a relationship between\n",
    " - the average income\n",
    " - the number of charging stations\n",
    " - the number of people per neighborhood\n",
    " - the size of the neighborhood\n",
    " \n",
    " Because a positive correlation between the size of the neighborhood and the number of charging stations is expected, let´s talk about a\n",
    " number of charging stations per 1000 inhabitants per 1000m^2 dependency to the average income in a town."
   ]
  },
  {
   "cell_type": "code",
   "execution_count": 30,
   "metadata": {},
   "outputs": [],
   "source": [
    "# to prevent damage on dataframe i use a temp df for each df\n",
    "df_itemp = df_income\n",
    "df_ctemp = df_charging\n",
    "df_ccounttemp = df_ccounts\n",
    "df_inhabtemp = df_inhabitants"
   ]
  },
  {
   "cell_type": "code",
   "execution_count": 31,
   "metadata": {},
   "outputs": [
    {
     "name": "stdout",
     "output_type": "stream",
     "text": [
      "The score of the Linear Model with an input vector is  0.2728618356394089\n",
      "The result is not so good.\n"
     ]
    }
   ],
   "source": [
    "# lets try to build a linear regression without the space in which the people live\n",
    "X=df_income.iloc[:,2:3]\n",
    "# y will be the predicted value as charging stations per 1000m^2 per 1000 inhabitants\n",
    "y = df_ccounts/df_inhabitants['Einwohner']*1000\n",
    "X_train, X_test, y_train, y_test = train_test_split(X, y, test_size=0.3, random_state=0)\n",
    "pipe = Pipeline([('scaler', StandardScaler()), ('mode', LinearRegression())])\n",
    "# The pipeline can be used as any other estimator\n",
    "# and avoids leaking the test set into the train set\n",
    "#Pipeline(steps=[('scaler', StandardScaler()), ('svc', SVC())])\n",
    "pipe.fit(X_train, y_train)\n",
    "\n",
    "yhat=pipe.predict(X_test)\n",
    "print('The score of the Linear Model with an input vector is ', pipe.score(X,y))\n",
    "print('The result is not so good.')"
   ]
  },
  {
   "cell_type": "code",
   "execution_count": 32,
   "metadata": {},
   "outputs": [],
   "source": [
    "# X will be our input matrix\n",
    "X=df_income.iloc[:,0:3]\n",
    "# y will be the predicted value as charging stations per 1000m^2 per 1000 inhabitants\n",
    "y = df_ccounts/df_inhabitants['Flaeche']*10/df_inhabitants['Einwohner']*1000"
   ]
  },
  {
   "cell_type": "code",
   "execution_count": 33,
   "metadata": {},
   "outputs": [
    {
     "name": "stdout",
     "output_type": "stream",
     "text": [
      "The score of the Linear Model with 3x3 input matrix is  0.5968505956442951\n",
      "The result is better.\n"
     ]
    }
   ],
   "source": [
    "X_train, X_test, y_train, y_test = train_test_split(X, y, test_size=0.3, random_state=0)\n",
    "pipe = Pipeline([('scaler', StandardScaler()), ('mode', LinearRegression())])\n",
    "# The pipeline can be used as any other estimator\n",
    "# and avoids leaking the test set into the train set\n",
    "#Pipeline(steps=[('scaler', StandardScaler()), ('svc', SVC())])\n",
    "pipe.fit(X_train, y_train)\n",
    "\n",
    "yhat=pipe.predict(X_test)\n",
    "print('The score of the Linear Model with 3x3 input matrix is ', pipe.score(X,y))\n",
    "print('The result is better.')"
   ]
  },
  {
   "cell_type": "markdown",
   "metadata": {},
   "source": [
    "### 7. Model evaluation and discussion"
   ]
  },
  {
   "cell_type": "code",
   "execution_count": 71,
   "metadata": {},
   "outputs": [
    {
     "name": "stdout",
     "output_type": "stream",
     "text": [
      "The R2-score is 0.3116068451639926\n",
      "Mitte                         1.000000\n",
      "Friedrichshain-Kreuzberg      0.833830\n",
      "Charlottenburg-Wilmersdorf    0.495744\n",
      "Tempelhof-Schöneberg          0.423434\n",
      "Neukölln                      0.217880\n",
      "Pankow                        0.143886\n",
      "Lichtenberg                   0.136287\n",
      "Steglitz-Zehlendorf           0.110520\n",
      "Spandau                       0.109627\n",
      "Treptow-Köpenick              0.076562\n",
      "Marzahn-Hellersdorf           0.068300\n",
      "Reinickendorf                 0.031936\n",
      "dtype: float64\n"
     ]
    },
    {
     "data": {
      "image/png": "[encoded data removed]",
      "text/plain": [
       "<Figure size 432x288 with 1 Axes>"
      ]
     },
     "metadata": {
      "needs_background": "light"
     },
     "output_type": "display_data"
    }
   ],
   "source": [
    "#show regression plot\n",
    "# The R2-score should at least be 0.1\n",
    "print('The R2-score is', sklearn.metrics.r2_score(y_test, yhat))\n",
    "m,b = np.polyfit(X['Average'], y, 1)\n",
    "plt.plot(x,y,'o')\n",
    "plt.plot(x, m*x+b)\n",
    "plt.gca().update(dict(title='Regression line', xlabel='Average income', ylabel='Charging accessability parameter', ylim=(0,0.0014)))\n",
    "yreadiness = y/y.max()\n",
    "yreadiness.sort_values(ascending=False, inplace=True)\n",
    "print(yreadiness)"
   ]
  },
  {
   "cell_type": "markdown",
   "metadata": {},
   "source": [
    "#### It seems, that the more central parts of the town have a higher density of charging stations. Lets see, if this is true:"
   ]
  },
  {
   "cell_type": "code",
   "execution_count": 85,
   "metadata": {},
   "outputs": [
    {
     "name": "stdout",
     "output_type": "stream",
     "text": [
      "The geograpical coordinate of Berlin are 52.518271799999994, 13.407830867048435.\n"
     ]
    }
   ],
   "source": [
    "# we set the location of the Brandenburger Tor as the center of the town and calculate the distance of every charging station to it.\n",
    "address = 'Rathausstrasse 15, Berlin, Berlin'\n",
    "\n",
    "geolocator = Nominatim(user_agent=\"charging_agent\")\n",
    "location = geolocator.geocode(address)\n",
    "latitude = location.latitude\n",
    "longitude = location.longitude\n",
    "print('The geograpical coordinate of Berlin are {}, {}.'.format(latitude, longitude))"
   ]
  },
  {
   "cell_type": "code",
   "execution_count": 86,
   "metadata": {},
   "outputs": [],
   "source": [
    "# lets calculate the delta in longitude and latitude for each station\n",
    "#dtotal is in kilometer with around 71km per 1° in germany\n",
    "\n",
    "dlatitude=['']*len(df_charging)\n",
    "dlongitude=['']*len(df_charging)\n",
    "dtotal=['']*len(df_charging)\n",
    "for index, row in df_charging.iterrows():\n",
    "    dlatitude[index]=df_charging['Längengrad [DG]'][index]-longitude\n",
    "    dlongitude[index]=df_charging['Breitengrad [DG]'][index]-latitude\n",
    "\n",
    "    \n",
    "dtotal = [71*math.sqrt(x1*x1 + x2*x2) for (x1, x2) in zip(dlatitude, dlongitude)]\n",
    "#    dtotal=(dlongitude-longitude)^2+(dlatitude-latitude)^2"
   ]
  },
  {
   "cell_type": "code",
   "execution_count": 87,
   "metadata": {},
   "outputs": [
    {
     "data": {
      "image/png": "[encoded data removed]",
      "text/plain": [
       "<Figure size 432x288 with 1 Axes>"
      ]
     },
     "metadata": {
      "needs_background": "light"
     },
     "output_type": "display_data"
    }
   ],
   "source": [
    "# now lets look at a histogram for dtotal\n",
    "num_bins = 20 # <- number of bins for the histogram\n",
    "plt.hist(dtotal, num_bins)\n",
    "plt.gca().update(dict(title='Histogram - Distance from charging station to town center', xlabel='Distance in km', ylabel='Number of charging stations', ylim=(0,150)))\n",
    "plt.show()"
   ]
  },
  {
   "cell_type": "markdown",
   "metadata": {},
   "source": [
    "### 8. Result Section"
   ]
  },
  {
   "cell_type": "markdown",
   "metadata": {},
   "source": [
    "So what did we find out?\n",
    "We found the different parts of the town. To be mentioned here, they are all having between 200.000 and 400.000 inhabitants, so the sections are very big.\n",
    "We saw a big difference between the monthly income of a neighborhood and the accessability of a charging station, which occured in a positive correlation.\n",
    "The results made me thinking. The parts of the town which are closest to the center seems to have better acces. So I calculated the distance to the Townhall for each charging station.\n",
    "\n",
    "It turned out that the density in the center of the town is the highest. Probably the differences within the different neighborhoods have a high seperation too if you go from the inner to the outer part."
   ]
  },
  {
   "cell_type": "markdown",
   "metadata": {},
   "source": [
    "### 8. Summary and Discussion of the results"
   ]
  },
  {
   "cell_type": "markdown",
   "metadata": {},
   "source": [
    "#### Are the charging stations equally distributed?"
   ]
  },
  {
   "cell_type": "code",
   "execution_count": 48,
   "metadata": {},
   "outputs": [
    {
     "data": {
      "text/plain": [
       "Mitte                         1.000000\n",
       "Friedrichshain-Kreuzberg      0.833830\n",
       "Charlottenburg-Wilmersdorf    0.495744\n",
       "Tempelhof-Schöneberg          0.423434\n",
       "Neukölln                      0.217880\n",
       "Pankow                        0.143886\n",
       "Lichtenberg                   0.136287\n",
       "Steglitz-Zehlendorf           0.110520\n",
       "Spandau                       0.109627\n",
       "Treptow-Köpenick              0.076562\n",
       "Marzahn-Hellersdorf           0.068300\n",
       "Reinickendorf                 0.031936\n",
       "dtype: float64"
      ]
     },
     "execution_count": 48,
     "metadata": {},
     "output_type": "execute_result"
    }
   ],
   "source": [
    "yreadiness"
   ]
  },
  {
   "cell_type": "markdown",
   "metadata": {},
   "source": [
    "The data analysis clearly showed big differences in the different parts of the town. This effect is showing a positive correlation between the the number of charging stations and the wealth (average income, percentage of people below 2000€ and percentage of people above above 5700€).  "
   ]
  },
  {
   "cell_type": "markdown",
   "metadata": {},
   "source": [
    "The correlation is not too strong but the it is clearly positive. In reality this means people in wealthier parts of the town have access to more charging stations.\n",
    "\n",
    "I expected even a much bigger difference, because wealthier people are more likely to drive the latest electric vehicle and are also living more likely in the center of the town, where the most charging stations are located.\n",
    "\n",
    "For someone who drives an electric car I would recommend to move to Friedrichshain-Kreuzberg or as much in the center of the town as possible! But: Neighborhood 'Mitte' means Center and is very expensive. "
   ]
  },
  {
   "cell_type": "markdown",
   "metadata": {},
   "source": [
    "##### What would I do differently?\n",
    "I would definitly try to gain a more detailed view of the town. The twelve categories as Regierungsbezirke (main parts of the town) where not sharp enough. In general I like the results and I think our future will be electric! I will keep this notebook stored and run it again in a year to see how much better we got in Germany.\n",
    "\n",
    "Thanks for reading and greetings from Germany\n",
    "Felix"
   ]
  },
  {
   "cell_type": "markdown",
   "metadata": {},
   "source": [
    "#### Notebook written by: Felix Brechtken, 14.02.2021"
   ]
  },
  {
   "cell_type": "code",
   "execution_count": null,
   "metadata": {},
   "outputs": [],
   "source": []
  }
 ],
 "metadata": {
  "kernelspec": {
   "display_name": "Python",
   "language": "python",
   "name": "conda-env-python-py"
  },
  "language_info": {
   "codemirror_mode": {
    "name": "ipython",
    "version": 3
   },
   "file_extension": ".py",
   "mimetype": "text/x-python",
   "name": "python",
   "nbconvert_exporter": "python",
   "pygments_lexer": "ipython3",
   "version": "3.6.12"
  }
 },
 "nbformat": 4,
 "nbformat_minor": 4
}
